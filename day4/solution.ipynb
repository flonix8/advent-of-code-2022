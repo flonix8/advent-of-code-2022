{
 "cells": [
  {
   "cell_type": "code",
   "execution_count": 57,
   "metadata": {},
   "outputs": [],
   "source": [
    "def get_input() -> list[str]:\n",
    "    return get_lines_from_file('./input')\n",
    "\n",
    "def get_test_input() -> list[str]:\n",
    "    return get_lines_from_file('./test_input')\n",
    "\n",
    "def get_lines_from_file(filepath) -> list[str]:\n",
    "    with open(filepath) as f:\n",
    "        return [line.strip() for line in f.readlines()]\n",
    "\n",
    "def get_int_from_file(filepath) -> int:\n",
    "    with open(filepath) as f:\n",
    "        return int(f.readline().strip())\n",
    "\n",
    "def log_invocation(func):\n",
    "    def logged_func(*args):\n",
    "        res = func(*args)\n",
    "        print(f'{func.__name__}({args}) -> {res}')\n",
    "        return res\n",
    "    return logged_func"
   ]
  },
  {
   "cell_type": "code",
   "execution_count": 58,
   "metadata": {},
   "outputs": [],
   "source": [
    "from collections import namedtuple\n",
    "Range = namedtuple('Range', ['start', 'end'])\n",
    "\n",
    "def parse_input_line(line: str) -> tuple[Range]:\n",
    "    range_texts = line.split(',')\n",
    "    ranges = []\n",
    "    for range_text in range_texts:\n",
    "        start, end = range_text.split('-')\n",
    "        ranges.append(Range(int(start), int(end)))\n",
    "    return ranges\n",
    "\n",
    "def is_fully_contained(container: Range, containee: Range) -> bool:\n",
    "    return container.start <= containee.start and container.end >= containee.end\n",
    "\n",
    "def fulfills_containment_crit(pair: tuple[Range]) -> bool:\n",
    "    return is_fully_contained(pair[0], pair[1]) \\\n",
    "        or is_fully_contained(pair[1], pair[0])\n",
    "\n",
    "def pretty_print_range(r: Range, max_len: int) -> str:\n",
    "    start_padding = f'{\".\"*(r.start-1)}'\n",
    "    range_content = f'{\"\".join(map(lambda e: str(e), range(r.start,r.end+1)))}'\n",
    "    end_padding = f'{\".\"*(max_len-r.end)}'\n",
    "    repr = f'{r.start}-{r.end}'\n",
    "    return f'{start_padding}{range_content}{end_padding} {repr}'\n",
    "\n",
    "def solution1(input: list[str]) -> int:\n",
    "    pairs = [parse_input_line(line) for line in input]\n",
    "    pairs_with_full_containment = [\n",
    "        pair for pair in pairs \n",
    "        if fulfills_containment_crit(pair)\n",
    "    ]\n",
    "    return len(pairs_with_full_containment)\n"
   ]
  },
  {
   "cell_type": "code",
   "execution_count": 59,
   "metadata": {},
   "outputs": [],
   "source": [
    "def have_overlap(r1: Range, r2: Range) -> bool:\n",
    "    return r1.start >= r2.start and r1.start <= r2.end \\\n",
    "        or r1.end >= r2.start and r1.end <= r2.end \\\n",
    "        or r2.start >= r1.start and r2.start <= r1.end \\\n",
    "        or r2.end >= r1.start and r2.end <= r1.end\n",
    "\n",
    "def solution2(input: list[str]) -> int:\n",
    "    pairs = [parse_input_line(line) for line in input]\n",
    "    pairs_with_overlap = [\n",
    "        pair for pair in pairs \n",
    "        if have_overlap(*pair)\n",
    "    ]\n",
    "    return len(pairs_with_overlap)"
   ]
  },
  {
   "cell_type": "code",
   "execution_count": 60,
   "metadata": {},
   "outputs": [
    {
     "name": "stdout",
     "output_type": "stream",
     "text": [
      "Your solution for part 1 works!!! :) (on the test input, that is)\n",
      "Let`s try it on the actual input now...\n",
      "The solution for part 1 is: 538\n",
      "\n",
      "On to part 2...\n",
      "\n",
      "Your solution for part 2 works!!! :) (on the test input, that is)\n",
      "Let`s try it on the actual input now...\n",
      "The solution for part 2 is: 792\n"
     ]
    }
   ],
   "source": [
    "solutions = [\n",
    "    solution1,\n",
    "    solution2,\n",
    "]\n",
    "\n",
    "test_results = [\n",
    "    get_int_from_file('./test_result1'),\n",
    "    get_int_from_file('./test_result2'),\n",
    "]\n",
    "\n",
    "def run_test(idx) -> bool:\n",
    "    res = solutions[idx-1](get_test_input())\n",
    "    test_res = test_results[idx-1]\n",
    "    \n",
    "    if test_res == res:\n",
    "        print(f'Your solution for part {idx} works!!! :) (on the test input, that is)')\n",
    "        print(f'Let`s try it on the actual input now...')\n",
    "        return True\n",
    "    else:\n",
    "        print(f'Your solution for part {idx} does not work yet. Keep going!')\n",
    "        print(f'You`ve got {res}, but the correct test result is {test_res}')\n",
    "        return False\n",
    "\n",
    "def run_solution(idx):\n",
    "    sol = solutions[idx-1](get_input())\n",
    "    print(f'The solution for part {idx} is: {sol}')\n",
    "\n",
    "if run_test(1):\n",
    "    run_solution(1)\n",
    "    print('\\nOn to part 2...\\n')\n",
    "    if run_test(2):\n",
    "        run_solution(2)"
   ]
  }
 ],
 "metadata": {
  "kernelspec": {
   "display_name": "Python 3.10.6 ('.venv': venv)",
   "language": "python",
   "name": "python3"
  },
  "language_info": {
   "codemirror_mode": {
    "name": "ipython",
    "version": 3
   },
   "file_extension": ".py",
   "mimetype": "text/x-python",
   "name": "python",
   "nbconvert_exporter": "python",
   "pygments_lexer": "ipython3",
   "version": "3.10.6"
  },
  "orig_nbformat": 4,
  "vscode": {
   "interpreter": {
    "hash": "09e8dbe911bf21f3c386d4d2edf688b1ba07bf689a7c55b370a524f1797d9d36"
   }
  }
 },
 "nbformat": 4,
 "nbformat_minor": 2
}
